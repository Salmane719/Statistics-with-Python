{
 "cells": [
  {
   "cell_type": "code",
   "execution_count": 2,
   "metadata": {},
   "outputs": [],
   "source": [
    "import numpy as np\n",
    "import pandas as pd\n",
    "import matplotlib.pyplot as plt\n",
    "import scipy.stats as stats\n"
   ]
  },
  {
   "cell_type": "code",
   "execution_count": 3,
   "metadata": {},
   "outputs": [
    {
     "name": "stdout",
     "output_type": "stream",
     "text": [
      "[17.48994463 14.55584528  9.62894215 15.36349587 10.12533206 16.08131926\n",
      " 16.22192384 11.37432993 19.00741918 19.84750845]\n"
     ]
    }
   ],
   "source": [
    "#Q1\n",
    "sample = stats.norm.rvs(loc=1,scale=4,size=100)\n",
    "print(sample)"
   ]
  },
  {
   "cell_type": "code",
   "execution_count": 8,
   "metadata": {},
   "outputs": [
    {
     "data": {
      "text/plain": [
       "(array([ 7.,  5.,  3., 10., 11., 10.]),\n",
       " array([-3, -2, -1,  0,  1,  2,  3]),\n",
       " <a list of 6 Patch objects>)"
      ]
     },
     "execution_count": 8,
     "metadata": {},
     "output_type": "execute_result"
    },
    {
     "data": {
      "image/png": "[encoded data removed]",
      "text/plain": [
       "<Figure size 432x288 with 1 Axes>"
      ]
     },
     "metadata": {
      "needs_background": "light"
     },
     "output_type": "display_data"
    }
   ],
   "source": [
    "#Q1 answer \n",
    "sample = stats.norm.rvs(loc=1,scale=4,size=100)\n",
    "plt.hist(sample,bins=30)\n",
    "plt.hist(sample,bins=[-3,-2,-1,0,1,2,3])\n"
   ]
  },
  {
   "cell_type": "code",
   "execution_count": 13,
   "metadata": {},
   "outputs": [
    {
     "data": {
      "text/plain": [
       "(array([ 3.,  8.,  6., 14., 11., 12.]),\n",
       " array([-3, -2, -1,  0,  1,  2,  3]),\n",
       " <a list of 6 Patch objects>)"
      ]
     },
     "execution_count": 13,
     "metadata": {},
     "output_type": "execute_result"
    },
    {
     "data": {
      "image/png": "[encoded data removed]",
      "text/plain": [
       "<Figure size 432x288 with 1 Axes>"
      ]
     },
     "metadata": {
      "needs_background": "light"
     },
     "output_type": "display_data"
    }
   ],
   "source": [
    "#Q2 increasing the mean  which is loc\n",
    "sample = stats.norm.rvs(loc=1,scale=4,size=100)\n",
    "plt.hist(sample,bins=30)\n",
    "plt.hist(sample,bins=[-3,-2,-1,0,1,2,3])\n"
   ]
  },
  {
   "cell_type": "code",
   "execution_count": 16,
   "metadata": {},
   "outputs": [
    {
     "name": "stdout",
     "output_type": "stream",
     "text": [
      "0.9274\n"
     ]
    }
   ],
   "source": [
    "#Q3\n",
    "prob1 = stats.norm.cdf(1.457,loc=0,scale=1)\n",
    "print(f\"{prob1:.4f}\")\n"
   ]
  },
  {
   "cell_type": "code",
   "execution_count": 53,
   "metadata": {},
   "outputs": [
    {
     "name": "stdout",
     "output_type": "stream",
     "text": [
      "0.9905\n"
     ]
    }
   ],
   "source": [
    "#Q4\n",
    "prob2 = 1-stats.norm.cdf(-2.345,loc=0,scale=1)\n",
    "print(f\"{prob2:.4f}\")"
   ]
  },
  {
   "cell_type": "code",
   "execution_count": 49,
   "metadata": {},
   "outputs": [
    {
     "name": "stdout",
     "output_type": "stream",
     "text": [
      "0.0668\n"
     ]
    }
   ],
   "source": [
    "#Q5\n",
    "prob3 = stats.norm.cdf(2.5,loc=10,scale=5)\n",
    "print(f\"{prob3:.4f}\")\n"
   ]
  },
  {
   "cell_type": "code",
   "execution_count": 51,
   "metadata": {},
   "outputs": [
    {
     "name": "stdout",
     "output_type": "stream",
     "text": [
      "0.2266\n"
     ]
    }
   ],
   "source": [
    "#Q6\n",
    "prob3 = stats.norm.cdf(8.5,loc=10,scale=2)\n",
    "print(f\"{prob3:.4f}\")"
   ]
  },
  {
   "cell_type": "code",
   "execution_count": 21,
   "metadata": {},
   "outputs": [
    {
     "data": {
      "text/plain": [
       "49.7"
      ]
     },
     "execution_count": 21,
     "metadata": {},
     "output_type": "execute_result"
    }
   ],
   "source": [
    "#Q7\n",
    "prob4 = stats.norm.cdf(35,loc=40,scale=5)\n",
    "prob5 = stats.norm.cdf(42,loc=40,scale=5)\n",
    "prob6 = prob5-prob4\n",
    "round(prob6*100,1)"
   ]
  },
  {
   "cell_type": "code",
   "execution_count": 22,
   "metadata": {},
   "outputs": [
    {
     "data": {
      "text/plain": [
       "array([ 2.75565222,  7.99544083,  0.33134107, 11.5434598 ,  1.7935701 ,\n",
       "        2.77504332,  6.50252561,  6.80159058,  5.74829915,  2.57538292])"
      ]
     },
     "execution_count": 22,
     "metadata": {},
     "output_type": "execute_result"
    }
   ],
   "source": [
    "#Q8 answer \n",
    "stats.expon.rvs(scale=5,size=10)"
   ]
  },
  {
   "cell_type": "code",
   "execution_count": 54,
   "metadata": {},
   "outputs": [
    {
     "data": {
      "text/plain": [
       "0.8825"
      ]
     },
     "execution_count": 54,
     "metadata": {},
     "output_type": "execute_result"
    }
   ],
   "source": [
    "#Q9\n",
    "prob_exp1 = 1-stats.expon.cdf(1,scale=8)\n",
    "round(prob_exp1,4)\n"
   ]
  },
  {
   "cell_type": "code",
   "execution_count": 52,
   "metadata": {},
   "outputs": [
    {
     "name": "stdout",
     "output_type": "stream",
     "text": [
      "0.32\n"
     ]
    }
   ],
   "source": [
    "#Q10\n",
    "x=5 \n",
    "mean = 20 \n",
    "print(round(stats.expon.cdf(25,scale=mean),4)-round(stats.expon.cdf(10,scale=mean),4))"
   ]
  },
  {
   "cell_type": "code",
   "execution_count": 32,
   "metadata": {},
   "outputs": [
    {
     "name": "stdout",
     "output_type": "stream",
     "text": [
      "['1.330', '1.410']\n"
     ]
    }
   ],
   "source": [
    "#Q11\n",
    "xbar = 1.37\n",
    "s = 0.11\n",
    "n = 50\n",
    "confidence = 0.99\n",
    "z = stats.norm.ppf((1 + confidence)/2)\n",
    "lower = xbar - z*s/np.sqrt(n)\n",
    "upper = xbar + z*s/np.sqrt(n)\n",
    "print([f\"{lower:.3f}\",f\"{upper:.3f}\"])"
   ]
  },
  {
   "cell_type": "code",
   "execution_count": 55,
   "metadata": {},
   "outputs": [
    {
     "name": "stdout",
     "output_type": "stream",
     "text": [
      "      var1   var2  var3     var4     var5    var6\n",
      "0   8.2695  0.055    15  14.9434  19.8185  0.2960\n",
      "1   9.4802  0.110     7  -3.3804  12.1965  0.9867\n",
      "2   9.6648  0.148    13   0.3638  24.7143  0.9524\n",
      "3   9.8530  0.238    14  -6.6535  10.5307  0.9582\n",
      "4  10.0435  0.274    13  -6.1799  16.8343  0.7152\n",
      "Confidence interval for the true population mean: [9.58, 10.51]\n"
     ]
    }
   ],
   "source": [
    "#Q12\n",
    "data = pd.read_csv('variables.csv')\n",
    "print(data.head())\n",
    "xbar = np.mean(data.iloc[:,2])\n",
    "s = np.std(data.iloc[:,2])\n",
    "n = len(data)\n",
    "confidence = 0.99\n",
    "z = stats.norm.ppf((1 + confidence)/2)\n",
    "lower = xbar - z*s/np.sqrt(n)\n",
    "upper = xbar + z*s/np.sqrt(n)\n",
    "print('Confidence interval for the true population mean:',[round(lower,2),round(upper,2)])"
   ]
  },
  {
   "cell_type": "code",
   "execution_count": null,
   "metadata": {},
   "outputs": [],
   "source": []
  }
 ],
 "metadata": {
  "kernelspec": {
   "display_name": "Python 3",
   "language": "python",
   "name": "python3"
  },
  "language_info": {
   "codemirror_mode": {
    "name": "ipython",
    "version": 3
   },
   "file_extension": ".py",
   "mimetype": "text/x-python",
   "name": "python",
   "nbconvert_exporter": "python",
   "pygments_lexer": "ipython3",
   "version": "3.7.4"
  }
 },
 "nbformat": 4,
 "nbformat_minor": 2
}
