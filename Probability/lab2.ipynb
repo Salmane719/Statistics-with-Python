{
 "cells": [
  {
   "cell_type": "code",
   "execution_count": 16,
   "metadata": {},
   "outputs": [
    {
     "name": "stdout",
     "output_type": "stream",
     "text": [
      "    Red  Blue  Total\n",
      "0     1     1      2\n",
      "1     1     2      3\n",
      "2     1     3      4\n",
      "3     1     4      5\n",
      "4     1     5      6\n",
      "5     1     6      7\n",
      "6     2     1      3\n",
      "7     2     2      4\n",
      "8     2     3      5\n",
      "9     2     4      6\n",
      "10    2     5      7\n",
      "11    2     6      8\n",
      "12    3     1      4\n",
      "13    3     2      5\n",
      "14    3     3      6\n",
      "15    3     4      7\n",
      "16    3     5      8\n",
      "17    3     6      9\n",
      "18    4     1      5\n",
      "19    4     2      6\n",
      "20    4     3      7\n",
      "21    4     4      8\n",
      "22    4     5      9\n",
      "23    4     6     10\n",
      "24    5     1      6\n",
      "25    5     2      7\n",
      "26    5     3      8\n",
      "27    5     4      9\n",
      "28    5     5     10\n",
      "29    5     6     11\n",
      "30    6     1      7\n",
      "31    6     2      8\n",
      "32    6     3      9\n",
      "33    6     4     10\n",
      "34    6     5     11\n",
      "35    6     6     12\n"
     ]
    }
   ],
   "source": [
    "import numpy as np \n",
    "import pandas as pd \n",
    "import matplotlib.pyplot as plt \n",
    "red=np.repeat(np.arange(1,7),6)\n",
    "blue=np.tile(np.arange(1,7),6)\n",
    "dice_roll=pd.DataFrame({'Red':red,'Blue':blue,'Total':red+blue})\n",
    "print(dice_roll)\n"
   ]
  },
  {
   "cell_type": "code",
   "execution_count": 17,
   "metadata": {},
   "outputs": [
    {
     "data": {
      "text/plain": [
       "array([2, 3, 4, 5, 6, 7])"
      ]
     },
     "execution_count": 17,
     "metadata": {},
     "output_type": "execute_result"
    }
   ],
   "source": [
    "np.random.seed(10)\n",
    "np.arange(2,8)"
   ]
  },
  {
   "cell_type": "code",
   "execution_count": 18,
   "metadata": {},
   "outputs": [],
   "source": [
    "t_rolls=np.random.choice(dice_roll.Total,1000)"
   ]
  },
  {
   "cell_type": "code",
   "execution_count": 19,
   "metadata": {},
   "outputs": [],
   "source": [
    "df=pd.DataFrame({'Results':t_rolls})"
   ]
  },
  {
   "cell_type": "code",
   "execution_count": 20,
   "metadata": {},
   "outputs": [
    {
     "data": {
      "text/plain": [
       "(array([ 25.,  50.,  95., 113., 156., 160., 132., 109.,  84.,  76.]),\n",
       " array([ 2.,  3.,  4.,  5.,  6.,  7.,  8.,  9., 10., 11., 12.]),\n",
       " <a list of 10 Patch objects>)"
      ]
     },
     "execution_count": 20,
     "metadata": {},
     "output_type": "execute_result"
    },
    {
     "data": {
      "image/png": "[encoded data removed]",
      "text/plain": [
       "<Figure size 432x288 with 1 Axes>"
      ]
     },
     "metadata": {
      "needs_background": "light"
     },
     "output_type": "display_data"
    }
   ],
   "source": [
    "plt.hist(df.Results)"
   ]
  },
  {
   "cell_type": "code",
   "execution_count": 21,
   "metadata": {},
   "outputs": [
    {
     "data": {
      "text/plain": [
       "(array([ 284.,  509.,  811., 1137., 1371., 1646., 1424., 1105.,  894.,\n",
       "         531.,  288.]),\n",
       " array([ 2.        ,  2.90909091,  3.81818182,  4.72727273,  5.63636364,\n",
       "         6.54545455,  7.45454545,  8.36363636,  9.27272727, 10.18181818,\n",
       "        11.09090909, 12.        ]),\n",
       " <a list of 11 Patch objects>)"
      ]
     },
     "execution_count": 21,
     "metadata": {},
     "output_type": "execute_result"
    },
    {
     "data": {
      "image/png": "[encoded data removed]",
      "text/plain": [
       "<Figure size 432x288 with 1 Axes>"
      ]
     },
     "metadata": {
      "needs_background": "light"
     },
     "output_type": "display_data"
    }
   ],
   "source": [
    "t_rolls=np.random.choice(dice_roll.Total,10000)\n",
    "df=pd.DataFrame({'Results':t_rolls})\n",
    "plt.hist(df.Results,bins=11)"
   ]
  },
  {
   "cell_type": "code",
   "execution_count": 22,
   "metadata": {},
   "outputs": [],
   "source": [
    "np.random.seed(111)\n",
    "rolls=np.random.choice(dice_roll.Total,1)"
   ]
  },
  {
   "cell_type": "code",
   "execution_count": 23,
   "metadata": {},
   "outputs": [
    {
     "name": "stdout",
     "output_type": "stream",
     "text": [
      "[7]\n"
     ]
    }
   ],
   "source": [
    "print(rolls)"
   ]
  },
  {
   "cell_type": "code",
   "execution_count": 24,
   "metadata": {},
   "outputs": [
    {
     "name": "stdout",
     "output_type": "stream",
     "text": [
      "5000\n"
     ]
    },
    {
     "data": {
      "text/plain": [
       "553"
      ]
     },
     "execution_count": 24,
     "metadata": {},
     "output_type": "execute_result"
    }
   ],
   "source": [
    "np.random.seed(101)\n",
    "t_rolls=np.random.choice(dice_roll.Total,5000)\n",
    "print(len(t_rolls))\n",
    "sum(t_rolls == 5)"
   ]
  },
  {
   "cell_type": "code",
   "execution_count": 25,
   "metadata": {},
   "outputs": [
    {
     "name": "stdout",
     "output_type": "stream",
     "text": [
      "5000\n"
     ]
    },
    {
     "data": {
      "text/plain": [
       "297"
      ]
     },
     "execution_count": 25,
     "metadata": {},
     "output_type": "execute_result"
    }
   ],
   "source": [
    "np.random.seed(101)\n",
    "t_rolls=np.random.choice(dice_roll.Total,5000)\n",
    "print(len(t_rolls))\n",
    "sum(t_rolls == 11)"
   ]
  },
  {
   "cell_type": "code",
   "execution_count": 26,
   "metadata": {},
   "outputs": [],
   "source": [
    "n=0\n",
    "n+=12"
   ]
  },
  {
   "cell_type": "code",
   "execution_count": 27,
   "metadata": {},
   "outputs": [
    {
     "name": "stdout",
     "output_type": "stream",
     "text": [
      "12\n"
     ]
    }
   ],
   "source": [
    "print(n)"
   ]
  },
  {
   "cell_type": "code",
   "execution_count": 28,
   "metadata": {},
   "outputs": [
    {
     "name": "stdout",
     "output_type": "stream",
     "text": [
      "5000\n"
     ]
    }
   ],
   "source": [
    "print(len(t_rolls))"
   ]
  },
  {
   "cell_type": "code",
   "execution_count": 34,
   "metadata": {},
   "outputs": [
    {
     "name": "stdout",
     "output_type": "stream",
     "text": [
      "12.5\n"
     ]
    }
   ],
   "source": [
    "four_dice = np.zeros([pow(6,4),5])\n",
    "n = 0\n",
    "for i in range(1,7):\n",
    "    for j in range(1,7):\n",
    "        for k in range(1,7):\n",
    "            for l in range(1,7):\n",
    "                four_dice[n,:] = [i,j,k,l,i+j+k+l]\n",
    "                n +=1\n",
    "four_dice_df = pd.DataFrame(four_dice,columns=('1','2','3','4','Total'))\n",
    "numof22=0\n",
    "i=0\n",
    "for i in range(0,1296):\n",
    "    if ( four_dice_df.iloc[i,4]==22.0):\n",
    "        numof22+=1\n",
    "numof12=0\n",
    "i=0\n",
    "for i in range(0,1296):\n",
    "    if ( four_dice_df.iloc[i,4]==12.0):\n",
    "        numof12+=1\n",
    "print(numof12/numof22)"
   ]
  },
  {
   "cell_type": "code",
   "execution_count": null,
   "metadata": {},
   "outputs": [],
   "source": []
  },
  {
   "cell_type": "code",
   "execution_count": null,
   "metadata": {},
   "outputs": [],
   "source": []
  }
 ],
 "metadata": {
  "kernelspec": {
   "display_name": "Python 3",
   "language": "python",
   "name": "python3"
  },
  "language_info": {
   "codemirror_mode": {
    "name": "ipython",
    "version": 3
   },
   "file_extension": ".py",
   "mimetype": "text/x-python",
   "name": "python",
   "nbconvert_exporter": "python",
   "pygments_lexer": "ipython3",
   "version": "3.7.4"
  }
 },
 "nbformat": 4,
 "nbformat_minor": 2
}
