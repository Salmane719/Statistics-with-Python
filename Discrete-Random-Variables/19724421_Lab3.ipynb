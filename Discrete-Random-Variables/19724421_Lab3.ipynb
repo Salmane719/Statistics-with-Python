{
 "cells": [
  {
   "cell_type": "code",
   "execution_count": 5,
   "metadata": {},
   "outputs": [
    {
     "name": "stdout",
     "output_type": "stream",
     "text": [
      "[38 24 31 35 35 32 37 39 28 36 34 28 29 29 34 25 28 37 38 40 38 32 30 35\n",
      " 31 36 35 34 32 47 31 36 35 39 31 29 42 33 37 35 36 32 37 40 37 43 34 33\n",
      " 37 42 33 42 37 31 37 46 42 38]\n"
     ]
    }
   ],
   "source": [
    "import numpy as np\n",
    "import pandas as pd\n",
    "import matplotlib.pyplot as plt\n",
    "import scipy.stats as stats\n",
    "binomal = stats.binom.rvs(n=120,p= 0.3, size= 58) \n",
    "print(binomal)"
   ]
  },
  {
   "cell_type": "code",
   "execution_count": 11,
   "metadata": {},
   "outputs": [
    {
     "name": "stdout",
     "output_type": "stream",
     "text": [
      "20\n"
     ]
    }
   ],
   "source": [
    "#Q1 answer so it false \n",
    "cars = stats.poisson.rvs(15,2)\n",
    "print( cars)\n"
   ]
  },
  {
   "cell_type": "code",
   "execution_count": 8,
   "metadata": {},
   "outputs": [
    {
     "name": "stdout",
     "output_type": "stream",
     "text": [
      "0.001582927406614672\n"
     ]
    }
   ],
   "source": [
    "cars_cum = stats.poisson.cdf( 114000,115000)\n",
    "print( cars_cum)"
   ]
  },
  {
   "cell_type": "code",
   "execution_count": 9,
   "metadata": {},
   "outputs": [
    {
     "name": "stdout",
     "output_type": "stream",
     "text": [
      "1.5091186052772276e-05\n"
     ]
    }
   ],
   "source": [
    "cars_prob = stats.poisson.pmf(114000,115000)\n",
    "print( cars_prob)"
   ]
  },
  {
   "cell_type": "code",
   "execution_count": 40,
   "metadata": {},
   "outputs": [
    {
     "data": {
      "text/plain": [
       "0.056"
      ]
     },
     "execution_count": 40,
     "metadata": {},
     "output_type": "execute_result"
    }
   ],
   "source": [
    "#Q2 answer \n",
    "prob_binom =  stats.binom.pmf( 68,  n= 120, p=0.6 )\n",
    "round(prob_binom,3)\n",
    "\n",
    "\n",
    "      "
   ]
  },
  {
   "cell_type": "code",
   "execution_count": 50,
   "metadata": {},
   "outputs": [
    {
     "data": {
      "text/plain": [
       "0.003"
      ]
     },
     "execution_count": 50,
     "metadata": {},
     "output_type": "execute_result"
    }
   ],
   "source": [
    "#Q3 answer \n",
    "cum_binom =  stats.binom.cdf( 58,  n= 150, p=0.5 )\n",
    "round(cum_binom,3)"
   ]
  },
  {
   "cell_type": "code",
   "execution_count": 55,
   "metadata": {},
   "outputs": [
    {
     "data": {
      "text/plain": [
       "0.344"
      ]
     },
     "execution_count": 55,
     "metadata": {},
     "output_type": "execute_result"
    }
   ],
   "source": [
    "#Q4 answer\n",
    "cum_binom =  stats.binom.cdf( 79,  n= 154, p=0.5 )\n",
    "round(1-cum_binom,3)"
   ]
  },
  {
   "cell_type": "code",
   "execution_count": 58,
   "metadata": {},
   "outputs": [
    {
     "data": {
      "text/plain": [
       "0.008"
      ]
     },
     "execution_count": 58,
     "metadata": {},
     "output_type": "execute_result"
    }
   ],
   "source": [
    "#Q5 answer \n",
    "prob_binom =  stats.binom.pmf( 90,  n= 125, p=0.8 )\n",
    "round(prob_binom,3)"
   ]
  },
  {
   "cell_type": "code",
   "execution_count": 66,
   "metadata": {},
   "outputs": [
    {
     "data": {
      "text/plain": [
       "0.128"
      ]
     },
     "execution_count": 66,
     "metadata": {},
     "output_type": "execute_result"
    }
   ],
   "source": [
    "#Q6 answer \n",
    "N= 52 \n",
    "s = 13\n",
    "n = 6\n",
    "x= 3\n",
    "jackpot_prob = stats.hypergeom.pmf(x,N,s,n)\n",
    "round(jackpot_prob,3)\n",
    "\n"
   ]
  },
  {
   "cell_type": "code",
   "execution_count": 69,
   "metadata": {},
   "outputs": [
    {
     "data": {
      "text/plain": [
       "0.15"
      ]
     },
     "execution_count": 69,
     "metadata": {},
     "output_type": "execute_result"
    }
   ],
   "source": [
    "#Q7 answer \n",
    "N= 52 \n",
    "s = 26\n",
    "n = 5\n",
    "x= 1\n",
    "jackpot_prob = stats.hypergeom.pmf(x,N,s,n)\n",
    "round(jackpot_prob,3)"
   ]
  },
  {
   "cell_type": "code",
   "execution_count": 74,
   "metadata": {},
   "outputs": [
    {
     "data": {
      "text/plain": [
       "0.14"
      ]
     },
     "execution_count": 74,
     "metadata": {},
     "output_type": "execute_result"
    }
   ],
   "source": [
    "#Q8 answer \n",
    "cars_prob = stats.poisson.pmf(3,5)\n",
    "round(cars_prob,3)"
   ]
  },
  {
   "cell_type": "code",
   "execution_count": 81,
   "metadata": {},
   "outputs": [
    {
     "data": {
      "text/plain": [
       "0.238"
      ]
     },
     "execution_count": 81,
     "metadata": {},
     "output_type": "execute_result"
    }
   ],
   "source": [
    "#Q9  answer\n",
    "cars_cum = stats.poisson.cdf(2,4)\n",
    "round(cars_cum,3)\n"
   ]
  },
  {
   "cell_type": "code",
   "execution_count": 8,
   "metadata": {},
   "outputs": [
    {
     "data": {
      "text/plain": [
       "0.87"
      ]
     },
     "execution_count": 8,
     "metadata": {},
     "output_type": "execute_result"
    }
   ],
   "source": [
    "#Q10 answer\n",
    "cars_cum = stats.poisson.cdf(6,10)\n",
    "round(1-cars_cum,3)\n"
   ]
  },
  {
   "cell_type": "code",
   "execution_count": null,
   "metadata": {},
   "outputs": [],
   "source": []
  },
  {
   "cell_type": "code",
   "execution_count": null,
   "metadata": {},
   "outputs": [],
   "source": []
  }
 ],
 "metadata": {
  "kernelspec": {
   "display_name": "Python 3",
   "language": "python",
   "name": "python3"
  },
  "language_info": {
   "codemirror_mode": {
    "name": "ipython",
    "version": 3
   },
   "file_extension": ".py",
   "mimetype": "text/x-python",
   "name": "python",
   "nbconvert_exporter": "python",
   "pygments_lexer": "ipython3",
   "version": "3.7.4"
  }
 },
 "nbformat": 4,
 "nbformat_minor": 2
}
