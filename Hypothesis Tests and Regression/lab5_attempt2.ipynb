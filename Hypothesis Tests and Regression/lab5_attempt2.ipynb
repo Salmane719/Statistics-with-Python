{
 "cells": [
  {
   "cell_type": "code",
   "execution_count": 8,
   "metadata": {},
   "outputs": [],
   "source": [
    "import numpy as np\n",
    "import pandas as pd\n",
    "import matplotlib.pyplot as plt\n",
    "import scipy.stats as stats\n",
    "import statsmodels.formula.api as smf\n"
   ]
  },
  {
   "cell_type": "code",
   "execution_count": 87,
   "metadata": {},
   "outputs": [],
   "source": [
    "#Q1\n",
    "#last option for the quiz \n",
    "# u = 31.9, ha :u not equal 31.9"
   ]
  },
  {
   "cell_type": "code",
   "execution_count": 90,
   "metadata": {},
   "outputs": [
    {
     "data": {
      "text/plain": [
       "3.068"
      ]
     },
     "execution_count": 90,
     "metadata": {},
     "output_type": "execute_result"
    }
   ],
   "source": [
    "#Q2\n",
    "xbar = 31.9\n",
    "mu = 29.1\n",
    "sigma = 5.4\n",
    "n = 35\n",
    "z = (xbar-mu)/(sigma/np.sqrt(n))\n",
    "round(z,3)"
   ]
  },
  {
   "cell_type": "code",
   "execution_count": 91,
   "metadata": {},
   "outputs": [
    {
     "name": "stdout",
     "output_type": "stream",
     "text": [
      "False\n"
     ]
    }
   ],
   "source": [
    "#Q3\n",
    "prob = stats.norm.cdf(1.28)\n",
    "alpha = 0.05 \n",
    "print(prob<alpha)\n"
   ]
  },
  {
   "cell_type": "code",
   "execution_count": 98,
   "metadata": {},
   "outputs": [
    {
     "name": "stdout",
     "output_type": "stream",
     "text": [
      "2.919437147910641\n",
      "0.00697576158015023\n",
      "True\n"
     ]
    }
   ],
   "source": [
    "#Q4\n",
    "X = [121, 117, 108, 114, 99, 102, 109, 101, 111, 107, 102, 92]\n",
    "xbar = np.mean(X)\n",
    "s = np.std(X,ddof=1) # must include 'ddof = 1' to indicate that this is sample␣\n",
    "#→standard deviation, rather than population standard deviation\n",
    "mu0 =100\n",
    "n = len(X)\n",
    "t = (xbar-mu0)/(s/np.sqrt(n))\n",
    "print(t)\n",
    "prob = 1-stats.t.cdf(t,n-1)\n",
    "print(prob1)\n",
    "alpha = 0.05\n",
    "print(prob<alpha)"
   ]
  },
  {
   "cell_type": "code",
   "execution_count": 103,
   "metadata": {},
   "outputs": [
    {
     "name": "stdout",
     "output_type": "stream",
     "text": [
      "Ttest_indResult(statistic=2.532695294453214, pvalue=0.019798708999834005)\n"
     ]
    }
   ],
   "source": [
    "#Q5\n",
    "A=[22, 13, 17, 9, 5, 11, 5, 19, 15, 17, 8, 12]\n",
    "B= [5, 10, 14, 9, 1, 8, 12, 3, 6, 7]\n",
    "ttest2= stats.ttest_ind(A,B)\n",
    "print(ttest2)\n"
   ]
  },
  {
   "cell_type": "code",
   "execution_count": 10,
   "metadata": {},
   "outputs": [
    {
     "name": "stdout",
     "output_type": "stream",
     "text": [
      "100\n",
      "       Height     Weight\n",
      "0  164.610260  71.672513\n",
      "1  174.032874  84.532568\n",
      "2  175.952944  91.761174\n",
      "3  162.342934  76.132028\n",
      "4  165.616526  56.789175\n",
      "                            OLS Regression Results                            \n",
      "==============================================================================\n",
      "Dep. Variable:                 Weight   R-squared:                       0.849\n",
      "Model:                            OLS   Adj. R-squared:                  0.847\n",
      "Method:                 Least Squares   F-statistic:                     550.1\n",
      "Date:                Thu, 16 Apr 2020   Prob (F-statistic):           5.51e-42\n",
      "Time:                        19:53:02   Log-Likelihood:                -318.69\n",
      "No. Observations:                 100   AIC:                             641.4\n",
      "Df Residuals:                      98   BIC:                             646.6\n",
      "Df Model:                           1                                         \n",
      "Covariance Type:            nonrobust                                         \n",
      "==============================================================================\n",
      "                 coef    std err          t      P>|t|      [0.025      0.975]\n",
      "------------------------------------------------------------------------------\n",
      "Intercept   -149.2236      9.432    -15.821      0.000    -167.941    -130.507\n",
      "Height         1.3203      0.056     23.453      0.000       1.209       1.432\n",
      "==============================================================================\n",
      "Omnibus:                        2.207   Durbin-Watson:                   2.070\n",
      "Prob(Omnibus):                  0.332   Jarque-Bera (JB):                2.179\n",
      "Skew:                          -0.348   Prob(JB):                        0.336\n",
      "Kurtosis:                       2.806   Cond. No.                     2.67e+03\n",
      "==============================================================================\n",
      "\n",
      "Warnings:\n",
      "[1] Standard Errors assume that the covariance matrix of the errors is correctly specified.\n",
      "[2] The condition number is large, 2.67e+03. This might indicate that there are\n",
      "strong multicollinearity or other numerical problems.\n"
     ]
    },
    {
     "data": {
      "text/plain": [
       "0    81.828\n",
       "dtype: float64"
      ]
     },
     "execution_count": 10,
     "metadata": {},
     "output_type": "execute_result"
    }
   ],
   "source": [
    "#q6\n",
    "df = pd.read_csv('height-weight.csv')\n",
    "print(len(df))\n",
    "print(df.head())\n",
    "model = smf.ols(formula='Weight~Height',data=df).fit()\n",
    "print(model.summary())\n",
    "\n",
    "pred62 = model.predict({'Height':175})\n",
    "round(pred62,3)\n"
   ]
  },
  {
   "cell_type": "markdown",
   "metadata": {
    "scrolled": true
   },
   "source": [
    "#Q6\n",
    "pred62 = model.predict({'Height':176})\n",
    "round(pred62,2)\n",
    "\n"
   ]
  },
  {
   "cell_type": "code",
   "execution_count": 107,
   "metadata": {},
   "outputs": [
    {
     "data": {
      "text/plain": [
       "Text(0, 0.5, 'Residuals')"
      ]
     },
     "execution_count": 107,
     "metadata": {},
     "output_type": "execute_result"
    },
    {
     "data": {
      "image/png": "[encoded data removed]",
      "text/plain": [
       "<Figure size 432x288 with 1 Axes>"
      ]
     },
     "metadata": {
      "needs_background": "light"
     },
     "output_type": "display_data"
    },
    {
     "data": {
      "image/png": "[encoded data removed]",
      "text/plain": [
       "<Figure size 432x288 with 1 Axes>"
      ]
     },
     "metadata": {
      "needs_background": "light"
     },
     "output_type": "display_data"
    }
   ],
   "source": [
    "//#Q7\n",
    "model = smf.ols(formula='Weight~Height',data=df).fit()\n",
    "residuals = model.resid\n",
    "    \n",
    "plt.figure()\n",
    "plt.hist(residuals)\n",
    "plt.axis([-20,20,0,20])\n",
    "plt.xlabel('Residuals')\n",
    "plt.ylabel('Frequency')\n",
    "\n",
    "plt.figure()\n",
    "plt.scatter(df.Height,residuals)\n",
    "plt.axis([142,195,-20,20])\n",
    "plt.xlabel('Height')\n",
    "plt.ylabel('Residuals')\n"
   ]
  },
  {
   "cell_type": "code",
   "execution_count": 110,
   "metadata": {
    "scrolled": true
   },
   "outputs": [
    {
     "data": {
      "text/plain": [
       "0    89.75\n",
       "dtype: float64"
      ]
     },
     "execution_count": 110,
     "metadata": {},
     "output_type": "execute_result"
    }
   ],
   "source": [
    "#Q8 \n",
    "pred62 = model.predict({'Height':181})\n",
    "round(pred62,2)\n"
   ]
  },
  {
   "cell_type": "code",
   "execution_count": 52,
   "metadata": {
    "scrolled": true
   },
   "outputs": [
    {
     "name": "stdout",
     "output_type": "stream",
     "text": [
      "320\n",
      "   MPG   Price\n",
      "0   19   88900\n",
      "1   19   88900\n",
      "2   19  136900\n",
      "3   19   98700\n",
      "4   19   98800\n"
     ]
    },
    {
     "data": {
      "text/plain": [
       "Text(0, 0.5, 'MPG ')"
      ]
     },
     "execution_count": 52,
     "metadata": {},
     "output_type": "execute_result"
    },
    {
     "data": {
      "image/png": "[encoded data removed]",
      "text/plain": [
       "<Figure size 432x288 with 1 Axes>"
      ]
     },
     "metadata": {
      "needs_background": "light"
     },
     "output_type": "display_data"
    }
   ],
   "source": [
    "#Q9\n",
    "df = pd.read_csv('cars.csv')\n",
    "print(len(df))\n",
    "print(df.head())\n",
    "plt.scatter(df.Price,df.MPG)\n",
    "plt.xlabel('price')\n",
    "plt.ylabel('MPG ')\n",
    "# true "
   ]
  },
  {
   "cell_type": "code",
   "execution_count": 114,
   "metadata": {},
   "outputs": [
    {
     "name": "stdout",
     "output_type": "stream",
     "text": [
      "320\n",
      "   MPG   Price\n",
      "0   19   88900\n",
      "1   19   88900\n",
      "2   19  136900\n",
      "3   19   98700\n",
      "4   19   98800\n",
      "                            OLS Regression Results                            \n",
      "==============================================================================\n",
      "Dep. Variable:                  Price   R-squared:                       0.417\n",
      "Model:                            OLS   Adj. R-squared:                  0.415\n",
      "Method:                 Least Squares   F-statistic:                     227.5\n",
      "Date:                Thu, 16 Apr 2020   Prob (F-statistic):           3.79e-39\n",
      "Time:                        19:03:35   Log-Likelihood:                -3628.7\n",
      "No. Observations:                 320   AIC:                             7261.\n",
      "Df Residuals:                     318   BIC:                             7269.\n",
      "Df Model:                           1                                         \n",
      "Covariance Type:            nonrobust                                         \n",
      "==============================================================================\n",
      "                 coef    std err          t      P>|t|      [0.025      0.975]\n",
      "------------------------------------------------------------------------------\n",
      "Intercept   1.608e+05   6549.632     24.549      0.000    1.48e+05    1.74e+05\n",
      "MPG        -3412.6072    226.272    -15.082      0.000   -3857.787   -2967.427\n",
      "==============================================================================\n",
      "Omnibus:                       14.802   Durbin-Watson:                   0.573\n",
      "Prob(Omnibus):                  0.001   Jarque-Bera (JB):               15.572\n",
      "Skew:                           0.529   Prob(JB):                     0.000415\n",
      "Kurtosis:                       3.225   Cond. No.                         166.\n",
      "==============================================================================\n",
      "\n",
      "Warnings:\n",
      "[1] Standard Errors assume that the covariance matrix of the errors is correctly specified.\n"
     ]
    },
    {
     "data": {
      "text/plain": [
       "0    20869.7\n",
       "dtype: float64"
      ]
     },
     "execution_count": 114,
     "metadata": {},
     "output_type": "execute_result"
    },
    {
     "data": {
      "image/png": "[encoded data removed]",
      "text/plain": [
       "<Figure size 432x288 with 1 Axes>"
      ]
     },
     "metadata": {
      "needs_background": "light"
     },
     "output_type": "display_data"
    }
   ],
   "source": [
    "#Q10\n",
    "df = pd.read_csv('cars.csv')\n",
    "print(len(df))\n",
    "print(df.head())\n",
    "plt.scatter(df.MPG,df.Price)\n",
    "plt.xlabel('MPG')\n",
    "plt.ylabel('Price')\n",
    "df.corr()\n",
    "model = smf.ols(formula='Price~MPG',data=df).fit()\n",
    "print(model.summary())\n",
    "pred62 = model.predict({'MPG':41})\n",
    "round(pred62,1)\n"
   ]
  },
  {
   "cell_type": "code",
   "execution_count": 115,
   "metadata": {},
   "outputs": [
    {
     "name": "stdout",
     "output_type": "stream",
     "text": [
      "320\n",
      "   MPG   Price\n",
      "0   19   88900\n",
      "1   19   88900\n",
      "2   19  136900\n",
      "3   19   98700\n",
      "4   19   98800\n",
      "                            OLS Regression Results                            \n",
      "==============================================================================\n",
      "Dep. Variable:                  Price   R-squared:                       0.417\n",
      "Model:                            OLS   Adj. R-squared:                  0.415\n",
      "Method:                 Least Squares   F-statistic:                     227.5\n",
      "Date:                Thu, 16 Apr 2020   Prob (F-statistic):           3.79e-39\n",
      "Time:                        19:04:16   Log-Likelihood:                -3628.7\n",
      "No. Observations:                 320   AIC:                             7261.\n",
      "Df Residuals:                     318   BIC:                             7269.\n",
      "Df Model:                           1                                         \n",
      "Covariance Type:            nonrobust                                         \n",
      "==============================================================================\n",
      "                 coef    std err          t      P>|t|      [0.025      0.975]\n",
      "------------------------------------------------------------------------------\n",
      "Intercept   1.608e+05   6549.632     24.549      0.000    1.48e+05    1.74e+05\n",
      "MPG        -3412.6072    226.272    -15.082      0.000   -3857.787   -2967.427\n",
      "==============================================================================\n",
      "Omnibus:                       14.802   Durbin-Watson:                   0.573\n",
      "Prob(Omnibus):                  0.001   Jarque-Bera (JB):               15.572\n",
      "Skew:                           0.529   Prob(JB):                     0.000415\n",
      "Kurtosis:                       3.225   Cond. No.                         166.\n",
      "==============================================================================\n",
      "\n",
      "Warnings:\n",
      "[1] Standard Errors assume that the covariance matrix of the errors is correctly specified.\n"
     ]
    },
    {
     "data": {
      "text/plain": [
       "0    78884.0\n",
       "dtype: float64"
      ]
     },
     "execution_count": 115,
     "metadata": {},
     "output_type": "execute_result"
    },
    {
     "data": {
      "image/png": "[encoded data removed]",
      "text/plain": [
       "<Figure size 432x288 with 1 Axes>"
      ]
     },
     "metadata": {
      "needs_background": "light"
     },
     "output_type": "display_data"
    }
   ],
   "source": [
    "#Q11\n",
    "df = pd.read_csv('cars.csv')\n",
    "print(len(df))\n",
    "print(df.head())\n",
    "plt.scatter(df.MPG,df.Price)\n",
    "plt.xlabel('MPG')\n",
    "plt.ylabel('Price')\n",
    "df.corr()\n",
    "model = smf.ols(formula='Price~MPG',data=df).fit()\n",
    "print(model.summary())\n",
    "pred62 = model.predict({'MPG':24})\n",
    "round(pred62,1)"
   ]
  },
  {
   "cell_type": "code",
   "execution_count": 118,
   "metadata": {},
   "outputs": [
    {
     "name": "stdout",
     "output_type": "stream",
     "text": [
      "320\n",
      "   MPG   Price\n",
      "0   19   88900\n",
      "1   19   88900\n",
      "2   19  136900\n",
      "3   19   98700\n",
      "4   19   98800\n",
      "                            OLS Regression Results                            \n",
      "==============================================================================\n",
      "Dep. Variable:                  Price   R-squared:                       0.417\n",
      "Model:                            OLS   Adj. R-squared:                  0.415\n",
      "Method:                 Least Squares   F-statistic:                     227.5\n",
      "Date:                Thu, 16 Apr 2020   Prob (F-statistic):           3.79e-39\n",
      "Time:                        19:18:02   Log-Likelihood:                -3628.7\n",
      "No. Observations:                 320   AIC:                             7261.\n",
      "Df Residuals:                     318   BIC:                             7269.\n",
      "Df Model:                           1                                         \n",
      "Covariance Type:            nonrobust                                         \n",
      "==============================================================================\n",
      "                 coef    std err          t      P>|t|      [0.025      0.975]\n",
      "------------------------------------------------------------------------------\n",
      "Intercept   1.608e+05   6549.632     24.549      0.000    1.48e+05    1.74e+05\n",
      "MPG        -3412.6072    226.272    -15.082      0.000   -3857.787   -2967.427\n",
      "==============================================================================\n",
      "Omnibus:                       14.802   Durbin-Watson:                   0.573\n",
      "Prob(Omnibus):                  0.001   Jarque-Bera (JB):               15.572\n",
      "Skew:                           0.529   Prob(JB):                     0.000415\n",
      "Kurtosis:                       3.225   Cond. No.                         166.\n",
      "==============================================================================\n",
      "\n",
      "Warnings:\n",
      "[1] Standard Errors assume that the covariance matrix of the errors is correctly specified.\n"
     ]
    },
    {
     "data": {
      "text/plain": [
       "0    78884.0\n",
       "dtype: float64"
      ]
     },
     "execution_count": 118,
     "metadata": {},
     "output_type": "execute_result"
    },
    {
     "data": {
      "image/png": "[encoded data removed]",
      "text/plain": [
       "<Figure size 432x288 with 1 Axes>"
      ]
     },
     "metadata": {
      "needs_background": "light"
     },
     "output_type": "display_data"
    }
   ],
   "source": [
    "#Q12\n",
    "df = pd.read_csv('cars.csv')\n",
    "print(len(df))\n",
    "print(df.head())\n",
    "plt.scatter(df.MPG,df.Price)\n",
    "plt.xlabel('MPG')\n",
    "plt.ylabel('Price')\n",
    "df.corr()\n",
    "model = smf.ols(formula='Price~MPG',data=df).fit()\n",
    "print(model.summary())\n",
    "pred62 = model.predict({'MPG':24})\n",
    "round(pred62,1)"
   ]
  },
  {
   "cell_type": "code",
   "execution_count": null,
   "metadata": {},
   "outputs": [],
   "source": []
  }
 ],
 "metadata": {
  "kernelspec": {
   "display_name": "Python 3",
   "language": "python",
   "name": "python3"
  },
  "language_info": {
   "codemirror_mode": {
    "name": "ipython",
    "version": 3
   },
   "file_extension": ".py",
   "mimetype": "text/x-python",
   "name": "python",
   "nbconvert_exporter": "python",
   "pygments_lexer": "ipython3",
   "version": "3.7.4"
  }
 },
 "nbformat": 4,
 "nbformat_minor": 2
}
